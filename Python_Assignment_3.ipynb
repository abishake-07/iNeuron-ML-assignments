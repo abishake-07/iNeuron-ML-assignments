{
  "nbformat": 4,
  "nbformat_minor": 0,
  "metadata": {
    "colab": {
      "name": "Python_Assignment_3.ipynb",
      "provenance": []
    },
    "kernelspec": {
      "name": "python3",
      "display_name": "Python 3"
    }
  },
  "cells": [
    {
      "cell_type": "code",
      "metadata": {
        "id": "6k5H6FJOOj41",
        "colab_type": "code",
        "colab": {
          "base_uri": "https://localhost:8080/",
          "height": 36
        },
        "outputId": "0fc03e1a-7c6a-4859-f570-1faecaf15b34"
      },
      "source": [
        "#Question 1: Write your own reduce function\n",
        "\n",
        "def my_reduce(funct, seq):\n",
        "  first = seq[0]\n",
        "  for i in seq[1:]:\n",
        "    first = funct(first,i)\n",
        "  return first\n",
        "\n",
        "def addi(x1,x2):\n",
        "  return x1+x2\n",
        "\n",
        "l = [1,2,3,4]\n",
        "addd = my_reduce(addi,l)\n",
        "addd"
      ],
      "execution_count": 1,
      "outputs": [
        {
          "output_type": "execute_result",
          "data": {
            "text/plain": [
              "10"
            ]
          },
          "metadata": {
            "tags": []
          },
          "execution_count": 1
        }
      ]
    },
    {
      "cell_type": "code",
      "metadata": {
        "id": "brqj44s5PWRf",
        "colab_type": "code",
        "colab": {
          "base_uri": "https://localhost:8080/",
          "height": 36
        },
        "outputId": "a66699ec-77b0-4c4e-f56b-bf72d4c18916"
      },
      "source": [
        "#Write your own filter function\n",
        "def my_filter(funct,seq):\n",
        "  l = []\n",
        " # first = seq[0]\n",
        "  for i in range (0,len(seq)):\n",
        "    first = funct(seq[i])\n",
        "    l.append(first)\n",
        "    l =  [x for x in l if x is not None]\n",
        "  return l\n",
        "\n",
        "def odd_even(i):\n",
        "  if(i%2 ==0):\n",
        "    return i\n",
        "  \n",
        "  \n",
        " \n",
        "l = [1,2,3,4]\n",
        "a = my_filter(odd_even,[1,2,3,4])\n",
        "a\n",
        "\n"
      ],
      "execution_count": 18,
      "outputs": [
        {
          "output_type": "execute_result",
          "data": {
            "text/plain": [
              "[2, 4]"
            ]
          },
          "metadata": {
            "tags": []
          },
          "execution_count": 18
        }
      ]
    },
    {
      "cell_type": "code",
      "metadata": {
        "id": "AC4TaVpQUYT8",
        "colab_type": "code",
        "colab": {
          "base_uri": "https://localhost:8080/",
          "height": 36
        },
        "outputId": "1d7ee9cd-4903-47be-8aba-ce77c5a80ea4"
      },
      "source": [
        "\"\"\"\n",
        "Implement List comprehensions to produce the following lists.\n",
        "Write List comprehensions to produce the following Lists\n",
        "['A', 'C', 'A', 'D', 'G', 'I', ’L’, ‘ D’]\n",
        "['x', 'xx', 'xxx', 'xxxx', 'y', 'yy', 'yyy', 'yyyy', 'z', 'zz', 'zzz', 'zzzz']\n",
        "['x', 'y', 'z', 'xx', 'yy', 'zz', 'xxx', 'yyy', 'zzz', 'xxxx', 'yyyy', 'zzzz']\n",
        "[[2], [3], [4], [3], [4], [5], [4], [5], [6]]\n",
        "[[2, 3, 4, 5], [3, 4, 5, 6], [4, 5, 6, 7], [5, 6, 7, 8]]\n",
        "[(1, 1), (2, 1), (3, 1), (1, 2), (2, 2), (3, 2), (1, 3), (2, 3), (3, 3)]\n",
        "\"\"\"\n",
        "\n",
        "input_list = ['x','y','z']\n",
        "result = [ item*num for item in input_list for num in range(1,5)  ]\n",
        "result"
      ],
      "execution_count": 39,
      "outputs": [
        {
          "output_type": "execute_result",
          "data": {
            "text/plain": [
              "['x', 'xx', 'xxx', 'xxxx', 'y', 'yy', 'yyy', 'yyyy', 'z', 'zz', 'zzz', 'zzzz']"
            ]
          },
          "metadata": {
            "tags": []
          },
          "execution_count": 39
        }
      ]
    },
    {
      "cell_type": "code",
      "metadata": {
        "id": "kKFDLxulWv2J",
        "colab_type": "code",
        "colab": {
          "base_uri": "https://localhost:8080/",
          "height": 36
        },
        "outputId": "b5aab96a-7515-4487-b5ac-b1c9cf1ba53c"
      },
      "source": [
        "input_list2 =[2,3,4]\n",
        "result2 = [[item+num] for item in input_list2 for num in range(0,3)]\n",
        "result2\n"
      ],
      "execution_count": 37,
      "outputs": [
        {
          "output_type": "execute_result",
          "data": {
            "text/plain": [
              "[[2], [3], [4], [3], [4], [5], [4], [5], [6]]"
            ]
          },
          "metadata": {
            "tags": []
          },
          "execution_count": 37
        }
      ]
    },
    {
      "cell_type": "code",
      "metadata": {
        "id": "XUc3nMQLa4Nh",
        "colab_type": "code",
        "colab": {
          "base_uri": "https://localhost:8080/",
          "height": 36
        },
        "outputId": "73c9a7ba-12e6-4623-a19b-738cbc6a5f4b"
      },
      "source": [
        "input_list3 = [2,3,4,5]\n",
        "result3 = [ [item+num for item in input_list] for num in range(0,4)  ]\n",
        "result3"
      ],
      "execution_count": 43,
      "outputs": [
        {
          "output_type": "execute_result",
          "data": {
            "text/plain": [
              "[[2, 3, 4, 5], [3, 4, 5, 6], [4, 5, 6, 7], [5, 6, 7, 8]]"
            ]
          },
          "metadata": {
            "tags": []
          },
          "execution_count": 43
        }
      ]
    },
    {
      "cell_type": "code",
      "metadata": {
        "id": "WJ-BhZgQbs_9",
        "colab_type": "code",
        "colab": {
          "base_uri": "https://localhost:8080/",
          "height": 36
        },
        "outputId": "6c8a694d-f894-45dc-9604-a0b58a3283a3"
      },
      "source": [
        "input_list4 = [1,2,3]\n",
        "result4 = [(a,b) for a in input_list4 for b in input_list4]\n",
        "result4"
      ],
      "execution_count": 46,
      "outputs": [
        {
          "output_type": "execute_result",
          "data": {
            "text/plain": [
              "[(1, 1), (1, 2), (1, 3), (2, 1), (2, 2), (2, 3), (3, 1), (3, 2), (3, 3)]"
            ]
          },
          "metadata": {
            "tags": []
          },
          "execution_count": 46
        }
      ]
    }
  ]
}