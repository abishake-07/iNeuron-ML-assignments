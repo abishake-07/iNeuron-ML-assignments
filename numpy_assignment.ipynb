{
  "nbformat": 4,
  "nbformat_minor": 0,
  "metadata": {
    "colab": {
      "name": "numpy_assignment.ipynb",
      "provenance": []
    },
    "kernelspec": {
      "name": "python3",
      "display_name": "Python 3"
    },
    "language_info": {
      "name": "python"
    }
  },
  "cells": [
    {
      "cell_type": "markdown",
      "metadata": {
        "id": "hNk87gxrNkxQ"
      },
      "source": [
        "#Assignment - 6"
      ]
    },
    {
      "cell_type": "markdown",
      "metadata": {
        "id": "UymnRufPNt5L"
      },
      "source": [
        "\n",
        "###Write a function so that the columns of the output matrix are powers of the input vector.\n",
        "###The order of the powers is determined by the increasing boolean argument. Specifically, when increasing is False, the i-th output column is the input vector raised element-wise to the power of N - i - 1.\n",
        "\n",
        "HINT: Such a matrix with a geometric progression in each row is named for Alexandre-Theophile Vandermonde.\n"
      ]
    },
    {
      "cell_type": "code",
      "metadata": {
        "id": "Q_ZPtArqOJjv"
      },
      "source": [
        "import numpy as np "
      ],
      "execution_count": 1,
      "outputs": []
    },
    {
      "cell_type": "code",
      "metadata": {
        "id": "Z_yJZEp6Nu_y"
      },
      "source": [
        "def alethevan(input_vector,n,increasing=True):\n",
        "  if increasing:\n",
        "    mat = np.matrix([x**i for x in input_vector for i in range(n)]).reshape(input_vector.size,n)\n",
        "  else:\n",
        "    mat = np.matrix([x**(n-i-1) for x in input_vector for i in range (n)]).reshape(input_vector.size,n)\n",
        "  return mat"
      ],
      "execution_count": 17,
      "outputs": []
    },
    {
      "cell_type": "code",
      "metadata": {
        "colab": {
          "base_uri": "https://localhost:8080/"
        },
        "id": "rBY_XxCbOsFL",
        "outputId": "0e5e2ddf-4055-4786-98ea-e15837d3b4c3"
      },
      "source": [
        "input_vector = np.array([1,3,5,7,9])\n",
        "n=4\n",
        "mat = alethevan(input_vector,n,increasing=True)\n",
        "mat"
      ],
      "execution_count": 18,
      "outputs": [
        {
          "output_type": "execute_result",
          "data": {
            "text/plain": [
              "matrix([[  1,   1,   1,   1],\n",
              "        [  1,   3,   9,  27],\n",
              "        [  1,   5,  25, 125],\n",
              "        [  1,   7,  49, 343],\n",
              "        [  1,   9,  81, 729]])"
            ]
          },
          "metadata": {
            "tags": []
          },
          "execution_count": 18
        }
      ]
    },
    {
      "cell_type": "code",
      "metadata": {
        "colab": {
          "base_uri": "https://localhost:8080/"
        },
        "id": "oHlz4xQQPNz7",
        "outputId": "91ea646c-5dd3-46c3-87bc-d18a977dc77e"
      },
      "source": [
        "mat = alethevan(input_vector,n,increasing=False)\n",
        "mat"
      ],
      "execution_count": 19,
      "outputs": [
        {
          "output_type": "execute_result",
          "data": {
            "text/plain": [
              "matrix([[  1,   1,   1,   1],\n",
              "        [ 27,   9,   3,   1],\n",
              "        [125,  25,   5,   1],\n",
              "        [343,  49,   7,   1],\n",
              "        [729,  81,   9,   1]])"
            ]
          },
          "metadata": {
            "tags": []
          },
          "execution_count": 19
        }
      ]
    },
    {
      "cell_type": "markdown",
      "metadata": {
        "id": "DaPfTczkPY0M"
      },
      "source": [
        "### 2. Write a function to find moving average in an array over a window:\n",
        "\n",
        "Test it over [3, 5, 7, 2, 8, 10, 11, 65, 72, 81, 99, 100, 150] and window of 3.\n"
      ]
    },
    {
      "cell_type": "code",
      "metadata": {
        "id": "h_ZOjFnrP6eN"
      },
      "source": [
        "import numpy as np\n",
        "def moving_avg_numpy(input_array,window):\n",
        "  z=0\n",
        "  output = np.convolve(input_array,np.ones(window),'valid')/window\n",
        "  for i in output:\n",
        "    print('y{0} = {1:.3f}'.format(z,i))\n",
        "    z+=1\n",
        "\n"
      ],
      "execution_count": 27,
      "outputs": []
    },
    {
      "cell_type": "code",
      "metadata": {
        "colab": {
          "base_uri": "https://localhost:8080/"
        },
        "id": "PZkiu5jzRGZM",
        "outputId": "0af75526-51f4-4100-9b49-fb2b5085d144"
      },
      "source": [
        "input_array = np.array([3, 5, 7, 2, 8, 10, 11, 65, 72, 81, 99, 100, 150] )\n",
        "window=3\n",
        "moving_avg_numpy(input_array,window)"
      ],
      "execution_count": 28,
      "outputs": [
        {
          "output_type": "stream",
          "text": [
            "y0 = 5.000\n",
            "y1 = 4.667\n",
            "y2 = 5.667\n",
            "y3 = 6.667\n",
            "y4 = 9.667\n",
            "y5 = 28.667\n",
            "y6 = 49.333\n",
            "y7 = 72.667\n",
            "y8 = 84.000\n",
            "y9 = 93.333\n",
            "y10 = 116.333\n"
          ],
          "name": "stdout"
        }
      ]
    },
    {
      "cell_type": "code",
      "metadata": {
        "id": "IKYhsMmhRTdw"
      },
      "source": [
        ""
      ],
      "execution_count": null,
      "outputs": []
    }
  ]
}