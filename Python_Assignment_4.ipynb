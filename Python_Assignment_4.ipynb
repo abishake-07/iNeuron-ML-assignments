{
 "cells": [
  {
   "cell_type": "markdown",
   "metadata": {},
   "source": [
    "## Question 1: Python program to find the area of the traingle using class concepts"
   ]
  },
  {
   "cell_type": "code",
   "execution_count": 6,
   "metadata": {},
   "outputs": [
    {
     "data": {
      "text/plain": [
       "57.96550698475775"
      ]
     },
     "execution_count": 6,
     "metadata": {},
     "output_type": "execute_result"
    }
   ],
   "source": [
    "class triangle:\n",
    "    def __init__(self,s,a,b,c):\n",
    "        self.s =s\n",
    "        self.a =a\n",
    "        self.b = b\n",
    "        self.c = c\n",
    "    def get_area(self):\n",
    "        area = (self.s*(self.s-self.a)*(self.s-self.b)*(self.s-self.c))**0.5\n",
    "        return area\n",
    "\n",
    "tri = triangle(10,2,3,4)\n",
    "tri.get_area()\n",
    "        "
   ]
  },
  {
   "cell_type": "markdown",
   "metadata": {},
   "source": [
    "## Question 2: Filter long words given the parameter n"
   ]
  },
  {
   "cell_type": "code",
   "execution_count": 10,
   "metadata": {},
   "outputs": [
    {
     "data": {
      "text/plain": [
       "['Rendezvous', 'Statement', 'Explosion', 'Real Name']"
      ]
     },
     "execution_count": 10,
     "metadata": {},
     "output_type": "execute_result"
    }
   ],
   "source": [
    "def filter_long_words(words,n):\n",
    "    n_list = []\n",
    "    for word in words:\n",
    "        if len(word) >n:\n",
    "            n_list.append(word)\n",
    "    return n_list\n",
    "\n",
    "l = ['Rendezvous','Sample','Statement','Explosion','Hi','Holiday','Real Name','Sell']\n",
    "filtered_list = filter_long_words(l,n=7)\n",
    "filtered_list"
   ]
  },
  {
   "cell_type": "markdown",
   "metadata": {},
   "source": [
    "## Question 3: Output the length of the word as a list given a list of words"
   ]
  },
  {
   "cell_type": "code",
   "execution_count": 12,
   "metadata": {},
   "outputs": [
    {
     "data": {
      "text/plain": [
       "[10, 6, 9, 9, 2, 7, 9, 4]"
      ]
     },
     "execution_count": 12,
     "metadata": {},
     "output_type": "execute_result"
    }
   ],
   "source": [
    "def map_words_len(words):\n",
    "    words_len = []\n",
    "    for word in words:\n",
    "        words_len.append(len(word))\n",
    "    return words_len\n",
    "l = ['Rendezvous','Sample','Statement','Explosion','Hi','Holiday','Real Name','Sell']\n",
    "mapped_list = map_words_len(l)\n",
    "mapped_list"
   ]
  },
  {
   "cell_type": "markdown",
   "metadata": {},
   "source": [
    "## Questjon 4: Check if the character is a vowel, if so return True else False"
   ]
  },
  {
   "cell_type": "code",
   "execution_count": null,
   "metadata": {},
   "outputs": [],
   "source": [
    "def check_char_vowel(char):\n",
    "    "
   ]
  }
 ],
 "metadata": {
  "kernelspec": {
   "display_name": "Python 3",
   "language": "python",
   "name": "python3"
  },
  "language_info": {
   "codemirror_mode": {
    "name": "ipython",
    "version": 3
   },
   "file_extension": ".py",
   "mimetype": "text/x-python",
   "name": "python",
   "nbconvert_exporter": "python",
   "pygments_lexer": "ipython3",
   "version": "3.8.3"
  }
 },
 "nbformat": 4,
 "nbformat_minor": 4
}
