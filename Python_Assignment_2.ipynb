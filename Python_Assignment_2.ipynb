{
  "nbformat": 4,
  "nbformat_minor": 0,
  "metadata": {
    "colab": {
      "name": "Python_Assignment_2.ipynb",
      "provenance": []
    },
    "kernelspec": {
      "name": "python3",
      "display_name": "Python 3"
    }
  },
  "cells": [
    {
      "cell_type": "code",
      "metadata": {
        "id": "lmPshl3bLWau",
        "colab_type": "code",
        "colab": {
          "base_uri": "https://localhost:8080/",
          "height": 223
        },
        "outputId": "6b5deab2-6589-4372-d3e1-1c32aa94c576"
      },
      "source": [
        "#Question 1: Create a pattern as shown below :\n",
        "\n",
        "for i in range(1,6):\n",
        "  for j in range(0,i):\n",
        "    print('*',end = ' ')\n",
        "  print()\n",
        "\n",
        "for i in range(6,0,-1):\n",
        "  for j in range(i,0,-1):\n",
        "    print('*',end = ' ')\n",
        "  print()\n"
      ],
      "execution_count": 5,
      "outputs": [
        {
          "output_type": "stream",
          "text": [
            "* \n",
            "* * \n",
            "* * * \n",
            "* * * * \n",
            "* * * * * \n",
            "* * * * * * \n",
            "* * * * * \n",
            "* * * * \n",
            "* * * \n",
            "* * \n",
            "* \n"
          ],
          "name": "stdout"
        }
      ]
    },
    {
      "cell_type": "code",
      "metadata": {
        "id": "r7Qmf88dMbd6",
        "colab_type": "code",
        "colab": {
          "base_uri": "https://localhost:8080/",
          "height": 55
        },
        "outputId": "c495b822-d9d1-450e-87af-d413e255ac26"
      },
      "source": [
        "#Question 2 :  Write a program to reverse a word on accepting the input from user \n",
        "\n",
        "user = input(\"Please enter your name to reverse\")\n",
        "user = user[::-1]\n",
        "user"
      ],
      "execution_count": 6,
      "outputs": [
        {
          "output_type": "stream",
          "text": [
            "Please enter your name to reverse Abhishek\n"
          ],
          "name": "stdout"
        },
        {
          "output_type": "execute_result",
          "data": {
            "application/vnd.google.colaboratory.intrinsic+json": {
              "type": "string"
            },
            "text/plain": [
              "'kehsihbA'"
            ]
          },
          "metadata": {
            "tags": []
          },
          "execution_count": 6
        }
      ]
    }
  ]
}
